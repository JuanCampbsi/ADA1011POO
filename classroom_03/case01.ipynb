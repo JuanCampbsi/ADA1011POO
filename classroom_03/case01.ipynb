{
 "cells": [
  {
   "cell_type": "code",
   "execution_count": 1,
   "id": "initial_id",
   "metadata": {
    "collapsed": true,
    "ExecuteTime": {
     "end_time": "2023-08-08T22:38:44.077798Z",
     "start_time": "2023-08-08T22:38:44.058172Z"
    }
   },
   "outputs": [
    {
     "name": "stdout",
     "output_type": "stream",
     "text": [
      "Cliente: Juan Campos, CPF: 145454500\n",
      "Banco: Conta 403 - Agência Campo Grande - Saldo 1000\n"
     ]
    }
   ],
   "source": [
    "import bank.account.account_bank as acc\n",
    "import bank.customer.customer_bank as custom\n",
    "\n",
    "custom_init = custom.Customer(\"Juan\", \"Campos\", 145454500)\n",
    "account_init = acc.BankAccount(403, \"Campo Grande\", 1000)\n",
    "account_init.link_customer(custom_init)\n",
    "\n",
    "print(custom_init)"
   ]
  }
 ],
 "metadata": {
  "kernelspec": {
   "display_name": "Python 3",
   "language": "python",
   "name": "python3"
  },
  "language_info": {
   "codemirror_mode": {
    "name": "ipython",
    "version": 2
   },
   "file_extension": ".py",
   "mimetype": "text/x-python",
   "name": "python",
   "nbconvert_exporter": "python",
   "pygments_lexer": "ipython2",
   "version": "2.7.6"
  }
 },
 "nbformat": 4,
 "nbformat_minor": 5
}
