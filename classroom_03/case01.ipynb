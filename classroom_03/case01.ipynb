{
 "cells": [
  {
   "cell_type": "code",
   "execution_count": 3,
   "outputs": [
    {
     "name": "stdout",
     "output_type": "stream",
     "text": [
      "Cliente: Juan Campos, CPF: 145454500\n",
      "Banco: Conta 403 - Agência Campo Grande - Saldo 1000\n"
     ]
    }
   ],
   "source": [
    "import bank.account.account_bank as acc\n",
    "import bank.customer.customer_bank as custom\n",
    "  \n",
    "custom_init = custom.Customer(\"Juan\", \"Campos\", 145454500)\n",
    "account_init = acc.BankAccount(403, \"Campo Grande\", 1000)\n",
    "\n",
    "account_init.link_customer(custom_init)\n",
    "\n",
    "print(custom_init)"
   ],
   "metadata": {
    "collapsed": false,
    "ExecuteTime": {
     "end_time": "2023-08-09T23:23:43.164911Z",
     "start_time": "2023-08-09T23:23:43.145744Z"
    }
   },
   "id": "33f9032de4c61cca"
  }
 ],
 "metadata": {
  "kernelspec": {
   "display_name": "Python 3",
   "language": "python",
   "name": "python3"
  },
  "language_info": {
   "codemirror_mode": {
    "name": "ipython",
    "version": 2
   },
   "file_extension": ".py",
   "mimetype": "text/x-python",
   "name": "python",
   "nbconvert_exporter": "python",
   "pygments_lexer": "ipython2",
   "version": "2.7.6"
  }
 },
 "nbformat": 4,
 "nbformat_minor": 5
}
