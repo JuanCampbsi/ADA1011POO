{
 "cells": [
  {
   "cell_type": "code",
   "execution_count": 2,
   "id": "initial_id",
   "metadata": {
    "collapsed": true,
    "ExecuteTime": {
     "end_time": "2023-08-08T00:57:20.025672Z",
     "start_time": "2023-08-08T00:57:20.018062Z"
    }
   },
   "outputs": [
    {
     "name": "stdout",
     "output_type": "stream",
     "text": [
      "Area circulo 78.53981633974483\n",
      "Quadrado 25\n",
      "Retangulo 25\n",
      "Triangulo 12.5\n",
      "Fração 10/3\n"
     ]
    }
   ],
   "source": [
    "import mathpoo.formas.circulo_class as circ\n",
    "import mathpoo.formas.quadrado_class as quad\n",
    "import mathpoo.formas.triangulo_class as tri\n",
    "import mathpoo.fraction.fraction_class as frac\n",
    "\n",
    "teste_circulo = circ.Circulo(5)\n",
    "teste_triangulo = tri.Triangulo(5,5)\n",
    "teste_quadrado = quad.Quadrado(5,5)\n",
    "teste_retangulo = quad.Quadrado(5,9)\n",
    "teste_frac = frac.Fracao(5,3)\n",
    "\n",
    "print(\"Area circulo\",teste_circulo.area())\n",
    "print(\"Quadrado\",teste_quadrado.area())\n",
    "print(\"Retangulo\",teste_quadrado.area())\n",
    "print(\"Triangulo\",teste_triangulo.area())\n",
    "print(\"Fração\",teste_frac.soma(teste_frac))"
   ]
  },
  {
   "cell_type": "code",
   "execution_count": null,
   "outputs": [],
   "source": [],
   "metadata": {
    "collapsed": false
   },
   "id": "ea60b9f488ac774f"
  }
 ],
 "metadata": {
  "kernelspec": {
   "display_name": "Python 3",
   "language": "python",
   "name": "python3"
  },
  "language_info": {
   "codemirror_mode": {
    "name": "ipython",
    "version": 2
   },
   "file_extension": ".py",
   "mimetype": "text/x-python",
   "name": "python",
   "nbconvert_exporter": "python",
   "pygments_lexer": "ipython2",
   "version": "2.7.6"
  }
 },
 "nbformat": 4,
 "nbformat_minor": 5
}
