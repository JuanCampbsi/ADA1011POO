{
 "cells": [
  {
   "cell_type": "code",
   "execution_count": 10,
   "id": "initial_id",
   "metadata": {
    "collapsed": true,
    "ExecuteTime": {
     "end_time": "2023-08-14T23:45:30.654120Z",
     "start_time": "2023-08-14T23:45:30.585232Z"
    }
   },
   "outputs": [],
   "source": [
    "import bank.customer.customer_bank as custom\n",
    "  \n",
    "custom_init = custom.Customer(\"Juan\", \"Campos\", 145454500)\n",
    "custom_init2 = custom.Customer(\"Celice\", \"Teste\", 145454500)\n"
   ]
  },
  {
   "cell_type": "markdown",
   "source": [
    "# `Prog. Orientada a Objetos`\n",
    "####  módulo [ADA 1011 POO]\n",
    "\n",
    "## Métodos de Classe (@classmethod):\n",
    "\n",
    "```\n",
    " \n",
    "\n",
    "    Os métodos de classe, marcados com o decorator @classmethod, são um pouco diferentes dos\n",
    "    métodos estáticos. Eles têm acesso à própria classe como argumento, geralmente chamado \n",
    "    de \"cls\". Isso permite que eles interajam com os atributos da classe e também \n",
    "    com as instâncias. Esses métodos são frequentemente usados para criar instâncias \n",
    "    de uma classe de maneira personalizada.\n",
    "\n",
    "```    \n",
    "\n",
    "## Atributos Estáticos\n",
    "\n",
    "```\n",
    "\n",
    "\n",
    "\n",
    "    Atributos estáticos são características que pertencem à classe como um todo, \n",
    "    em vez de pertencerem a instâncias específicas da classe. Esses atributos\n",
    "    são compartilhados por todas as instâncias da classe e são definidos fora dos métodos,\n",
    "    geralmente no escopo da classe. Isso os torna úteis para armazenar dados que são \n",
    "    relevantes para toda a classe.\n",
    "\n",
    "```  \n",
    "\n"
   ],
   "metadata": {
    "collapsed": false
   },
   "id": "b28e7876b7ac41bf"
  },
  {
   "cell_type": "code",
   "execution_count": 16,
   "outputs": [
    {
     "name": "stdout",
     "output_type": "stream",
     "text": [
      "Juan\n",
      "Nome não encontrado\n"
     ]
    }
   ],
   "source": [
    "print(custom.Customer.search(\"Juan\"))\n",
    "\n",
    "print(custom.Customer.search(\"Rafael\"))\n",
    " "
   ],
   "metadata": {
    "collapsed": false,
    "ExecuteTime": {
     "end_time": "2023-08-14T23:54:56.104705Z",
     "start_time": "2023-08-14T23:54:56.075130Z"
    }
   },
   "id": "7207d4ab4f5d48ac"
  },
  {
   "cell_type": "markdown",
   "source": [
    "## Métodos Estáticos (@staticmethod):\n",
    "\n",
    "```\n",
    "\n",
    "\n",
    "\n",
    "    Os métodos estáticos são aqueles que pertencem à classe, não a instâncias específicas.  \n",
    "    Eles são marcados com o decorator @staticmethod e não têm acesso a instâncias da classe, nem a seus atributos.  \n",
    "    Esses métodos são úteis para funções que estão intrinsicamente ligadas à classe, \n",
    "    mas não precisam interagir com seus atributos específicos.\n",
    "\n",
    "```"
   ],
   "metadata": {
    "collapsed": false
   },
   "id": "2f63e31920559d65"
  },
  {
   "cell_type": "code",
   "execution_count": 15,
   "outputs": [
    {
     "name": "stdout",
     "output_type": "stream",
     "text": [
      "Teste  método estático: Ivan\n"
     ]
    }
   ],
   "source": [
    "print(custom.Customer.operating(\"Ivan\")) "
   ],
   "metadata": {
    "collapsed": false,
    "ExecuteTime": {
     "end_time": "2023-08-14T23:46:43.573565Z",
     "start_time": "2023-08-14T23:46:43.524938Z"
    }
   },
   "id": "dff306a2023595e7"
  },
  {
   "cell_type": "markdown",
   "source": [],
   "metadata": {
    "collapsed": false
   },
   "id": "2f222392db6c6bd"
  }
 ],
 "metadata": {
  "kernelspec": {
   "display_name": "Python 3",
   "language": "python",
   "name": "python3"
  },
  "language_info": {
   "codemirror_mode": {
    "name": "ipython",
    "version": 2
   },
   "file_extension": ".py",
   "mimetype": "text/x-python",
   "name": "python",
   "nbconvert_exporter": "python",
   "pygments_lexer": "ipython2",
   "version": "2.7.6"
  }
 },
 "nbformat": 4,
 "nbformat_minor": 5
}
