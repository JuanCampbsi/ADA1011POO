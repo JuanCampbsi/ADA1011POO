{
 "cells": [
  {
   "cell_type": "code",
   "execution_count": 7,
   "id": "initial_id",
   "metadata": {
    "collapsed": true,
    "ExecuteTime": {
     "end_time": "2023-08-15T00:26:42.743238Z",
     "start_time": "2023-08-15T00:26:42.730161Z"
    }
   },
   "outputs": [],
   "source": [
    "import bank.customer.customer_bank as custom\n",
    "  \n",
    "custom_init = custom.Customer(\"Juan\", \"Campos\", 145454500)\n",
    "custom_init2 = custom.Customer(\"Celice\", \"Lopes\", 195454500)\n"
   ]
  },
  {
   "cell_type": "markdown",
   "source": [
    "# `Prog. Orientada a Objetos`\n",
    "####  módulo [ADA 1011 POO]\n",
    "\n",
    "## Métodos de Classe (@classmethod):\n",
    "\n",
    "```\n",
    " \n",
    "\n",
    "    Os métodos de classe, marcados com o decorator @classmethod, são um pouco diferentes dos  métodos estáticos. Eles têm acesso à própria classe como argumento, \n",
    "    geralmente chamado  de \"cls\". Isso permite que eles interajam com os atributos da classe e também  com as instâncias. Esses métodos são frequentemente usados \n",
    "    para criar instâncias de uma classe de maneira personalizada.\n",
    "\n",
    "```    \n",
    "\n",
    "## Atributos Estáticos\n",
    "\n",
    "```\n",
    "\n",
    "\n",
    "\n",
    "    Atributos estáticos são características que pertencem à classe como um todo, em vez de pertencerem a instâncias específicas da classe. Esses atributos\n",
    "    são compartilhados por todas as instâncias da classe e são definidos fora dos métodos, geralmente no escopo da classe. Isso os torna úteis para armazenar \n",
    "    dados que são  relevantes para toda a classe.\n",
    "\n",
    "```  \n",
    "\n"
   ],
   "metadata": {
    "collapsed": false
   },
   "id": "b28e7876b7ac41bf"
  },
  {
   "cell_type": "code",
   "execution_count": 8,
   "outputs": [
    {
     "name": "stdout",
     "output_type": "stream",
     "text": [
      "_____Classe como um todo:  Juan\n",
      "_____Instância criada:  Celice\n",
      "_____Classe como um todo:  Nome não encontrado\n"
     ]
    }
   ],
   "source": [
    "print(\"_____Classe como um todo: \", custom.Customer.search(\"Juan\"))\n",
    "\n",
    "print(\"_____Instância criada: \", custom.Customer.search(\"Celice\"))\n",
    "\n",
    "print(\"_____Classe como um todo: \", custom.Customer.search(\"Rafael\"))\n",
    " "
   ],
   "metadata": {
    "collapsed": false,
    "ExecuteTime": {
     "end_time": "2023-08-15T00:26:42.771789Z",
     "start_time": "2023-08-15T00:26:42.746636Z"
    }
   },
   "id": "7207d4ab4f5d48ac"
  },
  {
   "cell_type": "markdown",
   "source": [
    "## Métodos Estáticos (@staticmethod):\n",
    "\n",
    "```\n",
    "\n",
    "\n",
    "\n",
    "    Os métodos estáticos são aqueles que pertencem à classe, não a instâncias específicas. Eles são marcados com o decorator @staticmethod e não têm acesso a \n",
    "    instâncias da classe, nem a seus atributos. Esses métodos são úteis para funções que estão intrinsicamente ligadas à classe, mas não precisam \n",
    "    interagir com seus atributos específicos.\n",
    "\n",
    "```"
   ],
   "metadata": {
    "collapsed": false
   },
   "id": "2f63e31920559d65"
  },
  {
   "cell_type": "code",
   "execution_count": 9,
   "outputs": [
    {
     "name": "stdout",
     "output_type": "stream",
     "text": [
      "Teste  método estático: Ivan\n"
     ]
    }
   ],
   "source": [
    "new_name = \"Ivan\"\n",
    "\n",
    "print(custom.Customer.operating(new_name)) "
   ],
   "metadata": {
    "collapsed": false,
    "ExecuteTime": {
     "end_time": "2023-08-15T00:26:42.775016Z",
     "start_time": "2023-08-15T00:26:42.759681Z"
    }
   },
   "id": "dff306a2023595e7"
  }
 ],
 "metadata": {
  "kernelspec": {
   "display_name": "Python 3",
   "language": "python",
   "name": "python3"
  },
  "language_info": {
   "codemirror_mode": {
    "name": "ipython",
    "version": 2
   },
   "file_extension": ".py",
   "mimetype": "text/x-python",
   "name": "python",
   "nbconvert_exporter": "python",
   "pygments_lexer": "ipython2",
   "version": "2.7.6"
  }
 },
 "nbformat": 4,
 "nbformat_minor": 5
}
