{
 "cells": [
  {
   "cell_type": "code",
   "execution_count": 4,
   "id": "initial_id",
   "metadata": {
    "collapsed": true,
    "ExecuteTime": {
     "end_time": "2023-08-10T01:21:07.296674Z",
     "start_time": "2023-08-10T01:21:07.282928Z"
    }
   },
   "outputs": [
    {
     "name": "stdout",
     "output_type": "stream",
     "text": [
      "35/20\n"
     ]
    }
   ],
   "source": [
    "#TODO: Reimplementação de métodos\n",
    "\n",
    "class Fraction:\n",
    "    \n",
    "    __numerator = None\n",
    "    __denominator = None\n",
    "    \n",
    "    def __init__(self, numerator:int, denominator:int) -> None:\n",
    "        \"\"\"_summary_\n",
    "\n",
    "        Args:\n",
    "            numerator (int): _description_\n",
    "            denominator (int): _description_\n",
    "        \"\"\"\n",
    "        self.numerator = numerator\n",
    "        self.denominator = denominator\n",
    "\n",
    "    @property        \n",
    "    def denominator(self):\n",
    "        return self.__denominator\n",
    "    \n",
    "    @denominator.setter\n",
    "    def denominator(self, denominator):\n",
    "        if denominator == 0:\n",
    "            raise ValueError('Erro! denominator não pode ser zero.')\n",
    "        \n",
    "        self.__denominator = denominator\n",
    "        \n",
    "    @property\n",
    "    def numerator(self):\n",
    "        return self.__numerator\n",
    "    \n",
    "    @numerator.setter\n",
    "    def numerator(self, numerator):\n",
    "        self.__numerator = numerator\n",
    "                \n",
    "    def sum(self, fraction):\n",
    "        \"\"\"_summary_\n",
    "\n",
    "        Args:\n",
    "            fraction (fraction): _description_\n",
    "\n",
    "        Returns:\n",
    "            fraction: _description_\n",
    "        \"\"\"\n",
    "        numerator =  fraction.denominator * self.numerator + fraction.numerator*self.denominator\n",
    "        denominator = fraction.denominator * self.denominator\n",
    "        \n",
    "        return Fraction(numerator, denominator)\n",
    "    \n",
    "    def subtraction(self, fraction):\n",
    "        \n",
    "        numerator =  fraction.denominator*self.numerator - fraction.numerator*self.denominator\n",
    "        denominator = fraction.denominator*self.denominator\n",
    "        \n",
    "        return Fraction(numerator, denominator)\n",
    "    \n",
    "    def multiplication(self, fraction):\n",
    "        \n",
    "        numerator =  self.numerator * fraction.numerator\n",
    "        denominator = fraction.denominator * self.denominator\n",
    "        \n",
    "        return Fraction(numerator, denominator)\n",
    "    \n",
    "    def division(self, fraction):\n",
    "        \n",
    "        numerator =  self.numerator * fraction.denominator\n",
    "        denominator = fraction.numerator * self.denominator\n",
    "        \n",
    "        return Fraction(numerator, denominator)\n",
    "    \n",
    "    @property\n",
    "    def preview(self):\n",
    "        return f\"{self.numerator}/{self.denominator}\"\n",
    "    \n",
    "    \n",
    "    \n",
    "f1 = Fraction(5,5)\n",
    "f2 = Fraction(3,4)\n",
    "\n",
    "resultado = f1.sum(f2)\n",
    "\n",
    "print(resultado.preview)"
   ]
  }
 ],
 "metadata": {
  "kernelspec": {
   "display_name": "Python 3",
   "language": "python",
   "name": "python3"
  },
  "language_info": {
   "codemirror_mode": {
    "name": "ipython",
    "version": 2
   },
   "file_extension": ".py",
   "mimetype": "text/x-python",
   "name": "python",
   "nbconvert_exporter": "python",
   "pygments_lexer": "ipython2",
   "version": "2.7.6"
  }
 },
 "nbformat": 4,
 "nbformat_minor": 5
}
